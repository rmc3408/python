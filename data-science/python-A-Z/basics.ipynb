{
 "cells": [
  {
   "attachments": {},
   "cell_type": "markdown",
   "metadata": {},
   "source": [
    "# Basics for Data Science"
   ]
  },
  {
   "attachments": {},
   "cell_type": "markdown",
   "metadata": {},
   "source": [
    "### Types"
   ]
  },
  {
   "cell_type": "code",
   "execution_count": 61,
   "metadata": {},
   "outputs": [],
   "source": [
    "# Types\n",
    "a = 2\n",
    "b = 'st'\n",
    "c = True\n",
    "d = ['a', 'b']\n",
    "e = { \"age\": 28 }\n",
    "f = (True, 29302)\n",
    "g = None\n",
    "h = 2.51"
   ]
  },
  {
   "cell_type": "code",
   "execution_count": 62,
   "metadata": {},
   "outputs": [
    {
     "name": "stdout",
     "output_type": "stream",
     "text": [
      "<class 'int'>\n",
      "<class 'str'>\n",
      "<class 'bool'>\n",
      "<class 'list'>\n",
      "<class 'dict'>\n",
      "<class 'tuple'>\n",
      "<class 'NoneType'>\n",
      "<class 'float'>\n"
     ]
    }
   ],
   "source": [
    "print(type(a))\n",
    "print(type(b))\n",
    "print(type(c))\n",
    "print(type(d))\n",
    "print(type(e))\n",
    "print(type(f))\n",
    "print(type(g))\n",
    "print(type(h))"
   ]
  },
  {
   "attachments": {},
   "cell_type": "markdown",
   "metadata": {},
   "source": [
    "### Loops"
   ]
  },
  {
   "cell_type": "code",
   "execution_count": 63,
   "metadata": {},
   "outputs": [
    {
     "name": "stdout",
     "output_type": "stream",
     "text": [
      "1\n",
      "2\n",
      "3\n",
      "4\n",
      "the number is 2\n",
      "the number is 4\n",
      "R\n",
      "a\n",
      "p\n"
     ]
    }
   ],
   "source": [
    "# FOR Loop\n",
    "mylist = (1, 2, 3, 4)\n",
    "for num in mylist:\n",
    "    print(num)\n",
    "\n",
    "for n in mylist:\n",
    "    if n % 2 == 0:\n",
    "        print(f'the number is {n}')\n",
    "\n",
    "astring = 'Rap'\n",
    "for l in astring:\n",
    "    print(l)\n"
   ]
  },
  {
   "cell_type": "code",
   "execution_count": 64,
   "metadata": {},
   "outputs": [
    {
     "name": "stdout",
     "output_type": "stream",
     "text": [
      "0\n",
      "1\n",
      "2\n",
      "3\n"
     ]
    }
   ],
   "source": [
    "# WHILE\n",
    "\n",
    "x = 0\n",
    "while x < 4:\n",
    "    if x == 3:\n",
    "        # break\n",
    "        pass\n",
    "        # continue\n",
    "        # continue(next loop), pass(not empty) or break\n",
    "    print(x)\n",
    "    x += 1"
   ]
  },
  {
   "cell_type": "code",
   "execution_count": 65,
   "metadata": {},
   "outputs": [
    {
     "name": "stdout",
     "output_type": "stream",
     "text": [
      "g \n",
      "\n",
      "g - k - f - o - r - g - k - \n",
      "\n",
      "g - e - e - k - s - f - o - r - g - e - e - k - s - \n",
      "-----\n"
     ]
    }
   ],
   "source": [
    "# Break -> Break statement EXIT out of the loop\n",
    "sentence = 'geeksforgeeks'\n",
    "\n",
    "for n in sentence:\n",
    "    if n == 'e' or n == 's':\n",
    "        break\n",
    "    print(n, end=' ')\n",
    "\n",
    "print(\"\\n\") \n",
    "\n",
    "# Continue -> do NOT terminating the loop, it forces to execute the next iteration of the loop.\n",
    "for w in sentence:\n",
    "    if w == 'e' or w == 's':\n",
    "        continue\n",
    "        # nothing bellow is executed\n",
    "    print(w, end=\" - \")\n",
    "\n",
    "print(\"\\n\") \n",
    "\n",
    "# Pass -> can be used in If-Else statement or function are Empty (no code) and continue run that precede it.\n",
    "for m in sentence:\n",
    "    print(m, end=\" - \")\n",
    "    if m == 's':\n",
    "        pass\n",
    "\n",
    "print(\"\\n-----\") "
   ]
  },
  {
   "attachments": {},
   "cell_type": "markdown",
   "metadata": {},
   "source": [
    "### Lists"
   ]
  },
  {
   "cell_type": "code",
   "execution_count": 66,
   "metadata": {},
   "outputs": [],
   "source": [
    "listCreated = [ 1, 2, \"hi\", True, 2.3, { \"age\": 26, id: \"93829384\" }, [6, 12]]"
   ]
  },
  {
   "cell_type": "code",
   "execution_count": 67,
   "metadata": {},
   "outputs": [
    {
     "data": {
      "text/plain": [
       "26"
      ]
     },
     "execution_count": 67,
     "metadata": {},
     "output_type": "execute_result"
    }
   ],
   "source": [
    "listCreated[5]['age']"
   ]
  },
  {
   "cell_type": "code",
   "execution_count": 68,
   "metadata": {},
   "outputs": [
    {
     "name": "stdout",
     "output_type": "stream",
     "text": [
      "[2, 3, 4, 5]\n"
     ]
    }
   ],
   "source": [
    "listCreated2 = list(range(2, 6))\n",
    "print(listCreated2)"
   ]
  },
  {
   "cell_type": "code",
   "execution_count": 69,
   "metadata": {},
   "outputs": [
    {
     "name": "stdout",
     "output_type": "stream",
     "text": [
      "[100, 110, 120, 130, 140, 150]\n"
     ]
    }
   ],
   "source": [
    "listCreated3 = list(range(100, 160, 10))\n",
    "print(listCreated3)"
   ]
  },
  {
   "cell_type": "code",
   "execution_count": 70,
   "metadata": {},
   "outputs": [
    {
     "name": "stdout",
     "output_type": "stream",
     "text": [
      "1300\n",
      "2600\n",
      "[400, 1200, 2, 400, 200, 200, 8000, 400, 1200, 2, 400, 200, 200, 8000]\n",
      "39\n",
      "['July', 29, 1981, 'Raphael', 'Brazil']\n",
      "['May', 10, 1975]\n",
      "['May', 10, 1975, 'Ivan', 'Bulgaria', 'July', 29, 1981, 'Raphael', 'Brazil']\n",
      "['May', 10, 1975, 'Ivan', 'Bulgaria', 80000]\n",
      "[100, 200, 400, 1200, 2, 400, 200, 200, 8000]\n",
      "[2, 100, 200, 200, 200, 400, 400, 1200, 8000]\n",
      "[8000, 1200, 400, 400, 200, 200, 200, 100, 2]\n"
     ]
    }
   ],
   "source": [
    "raphaellList = [ \"July\", 29 , 1981, 'Raphael', 'Brazil' ]\n",
    "ivanList = [ \"May\", 10, 1975, 'Ivan', 'Bulgaria']\n",
    "numList = [100, 200, 400, 1200, 2, 400, 200, 200, 8000]\n",
    "\n",
    "\n",
    "#perform operation\n",
    "sum = numList[0] + numList[3]\n",
    "print(sum)\n",
    "print(sum * 2)\n",
    "print(numList[2:] * 2)\n",
    "\n",
    "print(raphaellList[1]+ivanList[1]) # add specif items\n",
    "print (raphaellList)\t# Prints complete list\n",
    "\n",
    "print (ivanList [0:3]) # Prints 3 elements FROM starting 0nd index element.\n",
    "namesList = ivanList + raphaellList\n",
    "print (namesList)\n",
    "\n",
    "# Append to the end of list (create a new last index)\n",
    "ivanList.append(80000) \n",
    "print(ivanList)\n",
    "\n",
    "#remove last item or specific index\n",
    "ivanList.pop(0)\n",
    "\n",
    "# Expression for list\n",
    "len(numList) # len = length\n",
    "min(numList) # minimum value of elements\n",
    "max(numList) # maximum value of elements\n",
    "\n",
    "# Function for list\n",
    "numList.count(200) #count how many element is repeated.\n",
    "numList.index(200) #Show location by index.\n",
    "\n",
    "#function without arguments. Modify original sequnce and indexes.\n",
    "print(numList)\n",
    "numList.sort() # sort()\n",
    "print (numList)\n",
    "\n",
    "numList.reverse() # reverse()\n",
    "print (numList)\n",
    "\n"
   ]
  },
  {
   "attachments": {},
   "cell_type": "markdown",
   "metadata": {},
   "source": [
    "##### slicing"
   ]
  },
  {
   "cell_type": "code",
   "execution_count": 71,
   "metadata": {},
   "outputs": [
    {
     "name": "stdout",
     "output_type": "stream",
     "text": [
      "Updated String : molina elements\n",
      "o\n",
      "oranilom\n",
      "oaio\n",
      "olinar\n",
      "om\n",
      "oaio\n"
     ]
    }
   ],
   "source": [
    "name = \"molinaro\"\n",
    "print(\"Updated String :\", name[:6] + ' elements')\n",
    "\n",
    "\n",
    "# From the end index = -1, -2, -3,...\n",
    "print(name[-1::])  # prints O\n",
    "\n",
    "print(name[::-1])  # To inverted name, use -1  to backward one. -2 go backward two elements\n",
    "print(name[::-2])  # inverted and jumping 1 letter backward.\n",
    "print(name[-7:-1])  # same as above\n",
    "print(name[1::-1])  # same as above forward\n",
    "print(name[-1:-8:-2])  # same as above jumping 1 letter backward"
   ]
  },
  {
   "attachments": {},
   "cell_type": "markdown",
   "metadata": {},
   "source": [
    "### tuple"
   ]
  },
  {
   "cell_type": "code",
   "execution_count": 72,
   "metadata": {},
   "outputs": [
    {
     "name": "stdout",
     "output_type": "stream",
     "text": [
      "('October', 2016, 21.5, {'age': 23})\n",
      "23\n",
      "50\n"
     ]
    }
   ],
   "source": [
    "fullTuple = ('October', 2016, 21.5, { \"age\": 23})\n",
    "oneElementTuple = (50)\n",
    "\n",
    "print(fullTuple)\n",
    "print(fullTuple[3]['age'])\n",
    "print(oneElementTuple)"
   ]
  },
  {
   "attachments": {},
   "cell_type": "markdown",
   "metadata": {},
   "source": [
    "### Packages"
   ]
  },
  {
   "cell_type": "code",
   "execution_count": 73,
   "metadata": {},
   "outputs": [
    {
     "name": "stdout",
     "output_type": "stream",
     "text": [
      "[8000 1200  400  400  200  200  200  100    2]\n",
      "MEAN = 1189.111111111111\n",
      "ST DEV = 2430.458047567917\n"
     ]
    }
   ],
   "source": [
    "import numpy as np\n",
    "b = np.array(numList)\n",
    "print(b)\n",
    "\n",
    "print(f'MEAN = {b.mean()}')\n",
    "print(f'ST DEV = {b.std()}')\n"
   ]
  },
  {
   "attachments": {},
   "cell_type": "markdown",
   "metadata": {},
   "source": [
    "__creating Array from Numpy__\n",
    "- only exist in Numpy package\n",
    "- one type per array\n",
    "- dont copy and dont save to memory as list, use reference only. muttable array. if need, use copy()"
   ]
  },
  {
   "attachments": {},
   "cell_type": "markdown",
   "metadata": {},
   "source": [
    "## homework"
   ]
  },
  {
   "attachments": {},
   "cell_type": "markdown",
   "metadata": {},
   "source": [
    "### section 2"
   ]
  },
  {
   "cell_type": "code",
   "execution_count": 74,
   "metadata": {},
   "outputs": [
    {
     "name": "stdout",
     "output_type": "stream",
     "text": [
      "[0.78054984 1.90345425 0.38732302]\n",
      "Total count is  671  runs in 1000 attempts\n"
     ]
    }
   ],
   "source": [
    "import numpy as np\n",
    "from numpy.random import randn\n",
    "print(randn(3))\n",
    "\n",
    "count = 0\n",
    "# or randn(1000) generates a list of 1000 randon numbers\n",
    "for z in range(1000):\n",
    "  num = randn()\n",
    "  if - 1 < num < 1:\n",
    "    count += 1\n",
    "\n",
    "print('Total count is ', count, ' runs in 1000 attempts')\n",
    "\n"
   ]
  },
  {
   "attachments": {},
   "cell_type": "markdown",
   "metadata": {},
   "source": [
    "### section 3"
   ]
  },
  {
   "cell_type": "code",
   "execution_count": 75,
   "metadata": {},
   "outputs": [],
   "source": [
    "#Data \n",
    "revenue = [14574.49, 7606.46, 8611.41, 9175.41, 8058.65, 8105.44, 11496.28, 9766.09, 10305.32, 14379.96, 10713.97, 15433.50]\n",
    "expenses = [12051.82, 5695.07, 12319.20, 12089.72, 8658.57, 840.20, 3285.73, 5821.12, 6976.93, 16618.61, 10054.37, 3803.96]"
   ]
  },
  {
   "cell_type": "code",
   "execution_count": 76,
   "metadata": {},
   "outputs": [
    {
     "name": "stdout",
     "output_type": "stream",
     "text": [
      "12 12\n",
      "profit [2522.67, 1911.39, -3707.79, -2914.31, -599.92, 7265.24, 8210.55, 3944.97, 3328.39, -2238.65, 659.6, 11629.54]\n"
     ]
    }
   ],
   "source": [
    "# profit of month\n",
    "print(len(revenue), len(expenses)) # 12 months\n",
    "\n",
    "profit = []\n",
    "\n",
    "for index in range(len(revenue)):\n",
    "  profit.append(round((revenue[index] - expenses[index]), 2))\n",
    "print('profit', profit)"
   ]
  },
  {
   "cell_type": "code",
   "execution_count": 77,
   "metadata": {},
   "outputs": [
    {
     "name": "stdout",
     "output_type": "stream",
     "text": [
      "Tax [756.8, 573.42, -1112.34, -874.29, -179.98, 2179.57, 2463.16, 1183.49, 998.52, -671.6, 197.88, 3488.86]\n",
      "Profit after taxes [1765.87, 1337.97, -2595.45, -2040.02, -419.94, 5085.67, 5747.39, 2761.48, 2329.87, -1567.05, 461.72, 8140.68]\n"
     ]
    }
   ],
   "source": [
    "tax = [ round((i * 0.3), 2) for i in profit ]\n",
    "print('Tax', tax)\n",
    "\n",
    "profit_after_tax = []\n",
    "for index in range(len(profit)):\n",
    "  profit_after_tax.append(round((profit[index] - tax[index]), 2))\n",
    "print('Profit after taxes', profit_after_tax)"
   ]
  },
  {
   "cell_type": "code",
   "execution_count": 78,
   "metadata": {},
   "outputs": [
    {
     "name": "stdout",
     "output_type": "stream",
     "text": [
      "profit Margin [10.0, 20.0, -30.0, -20.0, -10.0, 60.0, 50.0, 30.0, 20.0, -10.0, 0.0, 50.0]\n"
     ]
    }
   ],
   "source": [
    "profit_margin = []\n",
    "\n",
    "for index in range(len(profit_after_tax)):\n",
    "  profit_margin.append(round((profit_after_tax[index] / revenue[index]), 1) * 100)\n",
    "print('profit Margin', profit_margin)"
   ]
  },
  {
   "cell_type": "code",
   "execution_count": 79,
   "metadata": {},
   "outputs": [
    {
     "name": "stdout",
     "output_type": "stream",
     "text": [
      "1750.6825000000001\n",
      "[True, False, False, False, False, True, True, True, True, False, False, True]\n"
     ]
    }
   ],
   "source": [
    "sum = 0\n",
    "for i in profit_after_tax:\n",
    "  sum += i\n",
    "mean = sum / len(profit_after_tax)\n",
    "print(mean)\n",
    "\n",
    "goodMonth = []\n",
    "for i in range(len(profit_after_tax)):\n",
    "  goodMonth.append(profit_after_tax[i] > mean)\n",
    "print(goodMonth)\n"
   ]
  },
  {
   "cell_type": "code",
   "execution_count": 80,
   "metadata": {},
   "outputs": [
    {
     "name": "stdout",
     "output_type": "stream",
     "text": [
      "[False, True, True, True, True, False, False, False, False, True, True, False]\n"
     ]
    }
   ],
   "source": [
    "badMonth = []\n",
    "for i in range(len(profit_after_tax)):\n",
    "  badMonth.append(profit_after_tax[i] < mean)\n",
    "print(badMonth)\n"
   ]
  },
  {
   "cell_type": "code",
   "execution_count": 81,
   "metadata": {},
   "outputs": [
    {
     "name": "stdout",
     "output_type": "stream",
     "text": [
      "[1765.87, 1337.97, -2595.45, -2040.02, -419.94, 5085.67, 5747.39, 2761.48, 2329.87, -1567.05, 461.72, 8140.68]\n",
      "Best Month is December\n",
      "Worst Month is March\n"
     ]
    }
   ],
   "source": [
    "import calendar\n",
    "\n",
    "print(profit_after_tax)\n",
    "maxValue = max(profit_after_tax)\n",
    "bestMonthNumber = profit_after_tax.index(maxValue)\n",
    "\n",
    "print('Best Month is', calendar.month_name[bestMonthNumber+1])\n",
    "\n",
    "minValue = min(profit_after_tax)\n",
    "worstMonthNumber = profit_after_tax.index(minValue)\n",
    "\n",
    "print('Worst Month is', calendar.month_name[worstMonthNumber+1])"
   ]
  }
 ],
 "metadata": {
  "kernelspec": {
   "display_name": "Python 3",
   "language": "python",
   "name": "python3"
  },
  "language_info": {
   "codemirror_mode": {
    "name": "ipython",
    "version": 3
   },
   "file_extension": ".py",
   "mimetype": "text/x-python",
   "name": "python",
   "nbconvert_exporter": "python",
   "pygments_lexer": "ipython3",
   "version": "3.9.6"
  },
  "orig_nbformat": 4
 },
 "nbformat": 4,
 "nbformat_minor": 2
}
