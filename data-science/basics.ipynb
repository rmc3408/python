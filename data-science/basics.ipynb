{
 "cells": [
  {
   "attachments": {},
   "cell_type": "markdown",
   "metadata": {},
   "source": [
    "# Basics for Data Science"
   ]
  },
  {
   "attachments": {},
   "cell_type": "markdown",
   "metadata": {},
   "source": [
    "Types"
   ]
  },
  {
   "cell_type": "code",
   "execution_count": 62,
   "metadata": {},
   "outputs": [],
   "source": [
    "# Types\n",
    "a = 2\n",
    "b = 'st'\n",
    "c = True\n",
    "d = ['a', 'b']\n",
    "e = { \"age\": 28 }\n",
    "f = (True, 29302)\n",
    "g = None\n",
    "h = 2.51"
   ]
  },
  {
   "cell_type": "code",
   "execution_count": 63,
   "metadata": {},
   "outputs": [
    {
     "name": "stdout",
     "output_type": "stream",
     "text": [
      "<class 'int'>\n",
      "<class 'str'>\n",
      "<class 'bool'>\n",
      "<class 'list'>\n",
      "<class 'dict'>\n",
      "<class 'tuple'>\n",
      "<class 'NoneType'>\n",
      "<class 'float'>\n"
     ]
    }
   ],
   "source": [
    "print(type(a))\n",
    "print(type(b))\n",
    "print(type(c))\n",
    "print(type(d))\n",
    "print(type(e))\n",
    "print(type(f))\n",
    "print(type(g))\n",
    "print(type(h))"
   ]
  },
  {
   "attachments": {},
   "cell_type": "markdown",
   "metadata": {},
   "source": [
    "Core Principles"
   ]
  },
  {
   "cell_type": "code",
   "execution_count": 57,
   "metadata": {},
   "outputs": [
    {
     "name": "stdout",
     "output_type": "stream",
     "text": [
      "1\n",
      "2\n",
      "3\n",
      "4\n",
      "the number is 2\n",
      "the number is 4\n",
      "R\n",
      "a\n",
      "p\n"
     ]
    }
   ],
   "source": [
    "# FOR Loop\n",
    "mylist = (1, 2, 3, 4)\n",
    "for num in mylist:\n",
    "    print(num)\n",
    "\n",
    "for n in mylist:\n",
    "    if n % 2 == 0:\n",
    "        print(f'the number is {n}')\n",
    "\n",
    "astring = 'Rap'\n",
    "for l in astring:\n",
    "    print(l)\n"
   ]
  },
  {
   "cell_type": "code",
   "execution_count": 58,
   "metadata": {},
   "outputs": [
    {
     "name": "stdout",
     "output_type": "stream",
     "text": [
      "0\n",
      "1\n",
      "2\n",
      "3\n"
     ]
    }
   ],
   "source": [
    "# WHILE\n",
    "\n",
    "x = 0\n",
    "while x < 4:\n",
    "    if x == 3:\n",
    "        # break\n",
    "        pass\n",
    "        # continue\n",
    "        # continue(next loop), pass(not empty) or break\n",
    "    print(x)\n",
    "    x += 1"
   ]
  },
  {
   "cell_type": "code",
   "execution_count": 60,
   "metadata": {},
   "outputs": [
    {
     "name": "stdout",
     "output_type": "stream",
     "text": [
      "g \n",
      "\n",
      "g - k - f - o - r - g - k - \n",
      "\n",
      "g - e - e - k - s - f - o - r - g - e - e - k - s - \n",
      "-----\n"
     ]
    }
   ],
   "source": [
    "# Break -> Break statement EXIT out of the loop\n",
    "sentence = 'geeksforgeeks'\n",
    "\n",
    "for n in sentence:\n",
    "    if n == 'e' or n == 's':\n",
    "        break\n",
    "    print(n, end=' ')\n",
    "\n",
    "print(\"\\n\") \n",
    "\n",
    "# Continue -> do NOT terminating the loop, it forces to execute the next iteration of the loop.\n",
    "for w in sentence:\n",
    "    if w == 'e' or w == 's':\n",
    "        continue\n",
    "        # nothing bellow is executed\n",
    "    print(w, end=\" - \")\n",
    "\n",
    "print(\"\\n\") \n",
    "\n",
    "# Pass -> can be used in If-Else statement or function are Empty (no code) and continue run that precede it.\n",
    "for m in sentence:\n",
    "    print(m, end=\" - \")\n",
    "    if m == 's':\n",
    "        pass\n",
    "\n",
    "print(\"\\n-----\") "
   ]
  },
  {
   "cell_type": "code",
   "execution_count": 2,
   "metadata": {},
   "outputs": [],
   "source": [
    "import numpy as np\n",
    "from numpy.random import randn"
   ]
  },
  {
   "cell_type": "code",
   "execution_count": 3,
   "metadata": {},
   "outputs": [
    {
     "name": "stdout",
     "output_type": "stream",
     "text": [
      "[ 2.62003421e+00  1.33610121e-03 -4.69542451e-01]\n"
     ]
    }
   ],
   "source": [
    "print(randn(3))"
   ]
  },
  {
   "cell_type": "code",
   "execution_count": 5,
   "metadata": {},
   "outputs": [
    {
     "name": "stdout",
     "output_type": "stream",
     "text": [
      "Total count is  683  runs in 1000 attempts\n"
     ]
    }
   ],
   "source": [
    "count = 0\n",
    "# or randn(1000) generates a list of 1000 randon numbers\n",
    "for z in range(1000):\n",
    "  num = randn()\n",
    "  if - 1 < num < 1:\n",
    "    count += 1\n",
    "\n",
    "print('Total count is ', count, ' runs in 1000 attempts')\n",
    "\n"
   ]
  }
 ],
 "metadata": {
  "kernelspec": {
   "display_name": "Python 3",
   "language": "python",
   "name": "python3"
  },
  "language_info": {
   "codemirror_mode": {
    "name": "ipython",
    "version": 3
   },
   "file_extension": ".py",
   "mimetype": "text/x-python",
   "name": "python",
   "nbconvert_exporter": "python",
   "pygments_lexer": "ipython3",
   "version": "3.9.6"
  },
  "orig_nbformat": 4
 },
 "nbformat": 4,
 "nbformat_minor": 2
}
