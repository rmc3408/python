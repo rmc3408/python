{
 "cells": [
  {
   "cell_type": "markdown",
   "metadata": {
    "collapsed": true
   },
   "source": [
    "# Statements Assessment Test\n",
    "Let's test your knowledge!"
   ]
  },
  {
   "cell_type": "markdown",
   "metadata": {},
   "source": [
    "_____\n",
    "**Use <code>for</code>, .split(), and <code>if</code> to create a Statement that will print out words that start with 's':**"
   ]
  },
  {
   "cell_type": "code",
   "execution_count": 2,
   "metadata": {},
   "outputs": [],
   "source": [
    "st = 'Print only the words that start with s in this Sentence'"
   ]
  },
  {
   "cell_type": "code",
   "execution_count": 10,
   "metadata": {},
   "outputs": [
    {
     "name": "stdout",
     "output_type": "stream",
     "text": [
      "start\n",
      "s\n",
      "sentence\n"
     ]
    }
   ],
   "source": [
    "mylist = []\n",
    "mylist = st.split(' ') # by default, space\n",
    "\n",
    "for wrd in mylist:\n",
    "    if wrd[0].lower() == 's':\n",
    "        print(wrd)\n",
    "    "
   ]
  },
  {
   "cell_type": "markdown",
   "metadata": {},
   "source": [
    "______\n",
    "**Use range() to print all the even numbers from 0 to 10.**"
   ]
  },
  {
   "cell_type": "code",
   "execution_count": 2,
   "metadata": {},
   "outputs": [
    {
     "name": "stdout",
     "output_type": "stream",
     "text": [
      "[0, 2, 4, 6, 8, 10]\n",
      "0\n",
      "2\n",
      "4\n",
      "6\n",
      "8\n",
      "10\n"
     ]
    }
   ],
   "source": [
    "myEven = []\n",
    "for n in range(0,11):\n",
    "    if n%2 == 0:\n",
    "        myEven.append(n)\n",
    "print(myEven)\n",
    "\n",
    "\n",
    "list(range(0,11,2))\n",
    "\n",
    "for num in range(0,11,2):\n",
    "    print(num)\n"
   ]
  },
  {
   "cell_type": "markdown",
   "metadata": {},
   "source": [
    "___\n",
    "**Use a List Comprehension to create a list of all numbers between 1 and 50 that are divisible by 3.**"
   ]
  },
  {
   "cell_type": "code",
   "execution_count": 39,
   "metadata": {},
   "outputs": [
    {
     "name": "stdout",
     "output_type": "stream",
     "text": [
      "[3, 6, 9, 12, 15, 18, 21, 24, 27, 30, 33, 36, 39, 42, 45, 48]\n"
     ]
    }
   ],
   "source": [
    "divThree = [num for num in range(1,51) if num%3==0]\n",
    "print(divThree)"
   ]
  },
  {
   "cell_type": "markdown",
   "metadata": {},
   "source": [
    "_____\n",
    "**Go through the string below and if the length of a word is even print \"even!\"**"
   ]
  },
  {
   "cell_type": "code",
   "execution_count": 5,
   "metadata": {},
   "outputs": [],
   "source": [
    "st = 'Print every word in this sentence that has an even number of letters'"
   ]
  },
  {
   "cell_type": "code",
   "execution_count": 9,
   "metadata": {},
   "outputs": [
    {
     "name": "stdout",
     "output_type": "stream",
     "text": [
      "word in position 2 has 4 and is Even\n",
      "in in position 3 has 2 and is Even\n",
      "this in position 4 has 4 and is Even\n",
      "sentence in position 5 has 8 and is Even\n",
      "that in position 6 has 4 and is Even\n",
      "an in position 8 has 2 and is Even\n",
      "even in position 9 has 4 and is Even\n",
      "number in position 10 has 6 and is Even\n",
      "of in position 11 has 2 and is Even\n",
      "word is even!\n",
      "in is even!\n",
      "this is even!\n",
      "sentence is even!\n",
      "that is even!\n",
      "an is even!\n",
      "even is even!\n",
      "number is even!\n",
      "of is even!\n",
      "word:\tPrint - odd\n",
      "word:\tevery - odd\n",
      "word:\tword - even\n",
      "word:\tin - even\n",
      "word:\tthis - even\n",
      "word:\tsentence - even\n",
      "word:\tthat - even\n",
      "word:\thas - odd\n",
      "word:\tan - even\n",
      "word:\teven - even\n",
      "word:\tnumber - even\n",
      "word:\tof - even\n",
      "word:\tletters - odd\n"
     ]
    }
   ],
   "source": [
    "myListst = []\n",
    "myListst = st.split()\n",
    "\n",
    "\n",
    "for num in range(len(myListst)):\n",
    "    check = myListst[num]\n",
    "    if len(check)%2 ==0:\n",
    "        print(f'{check} in position {num} has {len(check)} and is Even')\n",
    "   \n",
    "for n in st.split():\n",
    "    if len(n)%2 == 0:\n",
    "        print(n + ' is even!')\n",
    "        \n",
    "for n in myListst:\n",
    "    if len(n)%2 == 0:\n",
    "        print(f'word:\\t{n} - even')\n",
    "    else:\n",
    "        print(f'word:\\t{n} - odd')"
   ]
  },
  {
   "cell_type": "markdown",
   "metadata": {},
   "source": [
    "____\n",
    "**Write a program that prints the integers from 1 to 100. But for multiples of three print \"Fizz\" instead of the number, and for the multiples of five print \"Buzz\". For numbers which are multiples of both three and five print \"FizzBuzz\".**"
   ]
  },
  {
   "cell_type": "code",
   "execution_count": 72,
   "metadata": {},
   "outputs": [
    {
     "data": {
      "text/plain": [
       "{1: '  --  ',\n",
       " 2: '  --  ',\n",
       " 3: 'Fizz',\n",
       " 4: '  --  ',\n",
       " 5: 'Buzz',\n",
       " 6: 'Fizz',\n",
       " 7: '  --  ',\n",
       " 8: '  --  ',\n",
       " 9: 'Fizz',\n",
       " 10: 'Buzz',\n",
       " 11: '  --  ',\n",
       " 12: 'Fizz',\n",
       " 13: '  --  ',\n",
       " 14: '  --  ',\n",
       " 15: 'FizzBuzz',\n",
       " 16: '  --  ',\n",
       " 17: '  --  ',\n",
       " 18: 'Fizz',\n",
       " 19: '  --  ',\n",
       " 20: 'Buzz'}"
      ]
     },
     "execution_count": 72,
     "metadata": {},
     "output_type": "execute_result"
    }
   ],
   "source": [
    "mydic = {}\n",
    "for x in range(1,21):\n",
    "    if x %3==0 and x %5==0:\n",
    "        mydic[x] = 'FizzBuzz'\n",
    "    elif x %5 == 0:\n",
    "        mydic[x] = 'Buzz'\n",
    "    elif x %3 == 0:\n",
    "        mydic[x] = 'Fizz'\n",
    "    else:\n",
    "        mydic[x] = '  --  '\n",
    "mydic"
   ]
  },
  {
   "cell_type": "markdown",
   "metadata": {},
   "source": [
    "____\n",
    "**Use List Comprehension to create a list of the first letters of every word in the string below:**"
   ]
  },
  {
   "cell_type": "code",
   "execution_count": 11,
   "metadata": {},
   "outputs": [],
   "source": [
    "st = 'Create a list of the first letters of every word in this string'"
   ]
  },
  {
   "cell_type": "code",
   "execution_count": 12,
   "metadata": {},
   "outputs": [
    {
     "data": {
      "text/plain": [
       "['C', 'a', 'l', 'o', 't', 'f', 'l', 'o', 'e', 'w', 'i', 't', 's']"
      ]
     },
     "execution_count": 12,
     "metadata": {},
     "output_type": "execute_result"
    }
   ],
   "source": [
    "[x[0] for x in st.split()]"
   ]
  },
  {
   "cell_type": "markdown",
   "metadata": {},
   "source": [
    "### Great Job!"
   ]
  }
 ],
 "metadata": {
  "kernelspec": {
   "display_name": "Python 3",
   "language": "python",
   "name": "python3"
  },
  "language_info": {
   "codemirror_mode": {
    "name": "ipython",
    "version": 3
   },
   "file_extension": ".py",
   "mimetype": "text/x-python",
   "name": "python",
   "nbconvert_exporter": "python",
   "pygments_lexer": "ipython3",
   "version": "3.9.6"
  }
 },
 "nbformat": 4,
 "nbformat_minor": 1
}
